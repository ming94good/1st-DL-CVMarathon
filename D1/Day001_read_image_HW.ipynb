{
 "cells": [
  {
   "cell_type": "markdown",
   "metadata": {},
   "source": [
    "# 作業\n",
    "\n",
    "思考一下我們前面有提到圖片是矩陣，但維度可能會不一樣\n",
    "例如灰階圖只有兩個維度，RGB 彩圖則有 3 個維度\n",
    "\n",
    "假如今天我們把 RGB 3 個維度拆開來看會有甚麼不同的效果呢？"
   ]
  },
  {
   "cell_type": "code",
   "execution_count": 19,
   "metadata": {},
   "outputs": [],
   "source": [
    "import cv2\n",
    "import time\n",
    "import numpy as np\n",
    "\n",
    "img_path = 'data/lena.png'\n",
    "\n",
    "img = cv2.imread(img_path)\n",
    "# 分離通道\n",
    "b,g,r = cv2.split(img)\n",
    "\n",
    "## 此結果會產生三個灰階圖，因為split method會產生三個單通道\n",
    "# while True:\n",
    "#     cv2.imshow('Blue', b)\n",
    "#     cv2.imshow('Green', g)\n",
    "#     cv2.imshow('Red', r)\n",
    "#     k = cv2.waitKey(0)\n",
    "#     if k == 27:\n",
    "#         cv2.destroyAllWindows()\n",
    "#         break"
   ]
  },
  {
   "cell_type": "code",
   "execution_count": null,
   "metadata": {},
   "outputs": [],
   "source": [
    "# 產生兩維度值為0\n",
    "zero = np.zeros(img.shape[:2], dtype = \"uint8\")\n",
    "while True:\n",
    "    cv2.imshow('Blue', cv2.merge([b, zero, zero]))\n",
    "    cv2.imshow('Green', cv2.merge([zero, g, zero]))\n",
    "    cv2.imshow('Red', cv2.merge([zero, zero, r]))\n",
    "\n",
    "    k = cv2.waitKey(0)\n",
    "    if k == 27:\n",
    "        cv2.destroyAllWindows()\n",
    "        break"
   ]
  },
  {
   "cell_type": "code",
   "execution_count": null,
   "metadata": {},
   "outputs": [],
   "source": []
  }
 ],
 "metadata": {
  "kernelspec": {
   "display_name": "Python 3",
   "language": "python",
   "name": "python3"
  },
  "language_info": {
   "codemirror_mode": {
    "name": "ipython",
    "version": 3
   },
   "file_extension": ".py",
   "mimetype": "text/x-python",
   "name": "python",
   "nbconvert_exporter": "python",
   "pygments_lexer": "ipython3",
   "version": "3.6.8"
  }
 },
 "nbformat": 4,
 "nbformat_minor": 2
}
